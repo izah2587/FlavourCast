{
  "nbformat": 4,
  "nbformat_minor": 0,
  "metadata": {
    "colab": {
      "provenance": []
    },
    "kernelspec": {
      "name": "python3",
      "display_name": "Python 3"
    },
    "language_info": {
      "name": "python"
    }
  },
  "cells": [
    {
      "cell_type": "code",
      "execution_count": null,
      "metadata": {
        "colab": {
          "base_uri": "https://localhost:8080/"
        },
        "id": "yv7aGWoPqMTm",
        "outputId": "3c0ba3bf-df44-46a9-bb7c-d52f6bfdddec"
      },
      "outputs": [
        {
          "output_type": "stream",
          "name": "stdout",
          "text": [
            "Enter your city: ottawa\n",
            "Ginger Grilled Pork Tenderloin\n",
            "Grilled Eggplant Rollintini :: Twist on a Classic\n",
            "Chicken Fajitas By Mommie Cooks\n",
            "Wild Salmon Cakes\n",
            "Asian Flank Steak\n"
          ]
        }
      ],
      "source": [
        "# Muhammad Hamza Arshad Majeed - mm12283\n",
        "# Izah Sohail - is2587\n",
        "# Projects in Programming and Data Science - STERN\n",
        "\n",
        "# App to suggest recipes based on the weather at a certain location\n",
        "\n",
        "import requests\n",
        "import json\n",
        "\n",
        "from google.colab import userdata\n",
        "\n",
        "Weather_API_KEY = userdata.get('Weather_API_KEY')\n",
        "Recipe_API_KEY = userdata.get('Recipe_API_KEY')\n",
        "\n",
        "\n",
        "#3. call the weather api using user input\n",
        "def get_weather(users_location):\n",
        "  url = f\"http://api.weatherstack.com/current?access_key={Weather_API_KEY}&query={users_location}&weather_descriptions>2\"\n",
        "  response = requests.get(url)\n",
        "  weather_data = response.json()\n",
        "  return weather_data\n",
        "\n",
        "#4. map weather details to food type\n",
        "def map_weather_to_recipe(weather_data):\n",
        "  temperature = weather_data['current']['temperature']\n",
        "  conditions = weather_data['current']['weather_descriptions'][0]\n",
        "  is_day = weather_data['current']['is_day']\n",
        "\n",
        "  if conditions in ['Rain','Snow']:\n",
        "    if is_day == 'yes':\n",
        "      return 'warm+food'\n",
        "    else:\n",
        "      return 'fried+food'\n",
        "  elif temperature>35:\n",
        "    return 'cold+desserts'\n",
        "  elif temperature>10:\n",
        "    return 'grilled'\n",
        "  else:\n",
        "    return 'soup'\n",
        "\n",
        "#3. call the recipe api using food type mapped by the function\n",
        "def get_recipes(query, number = 5):\n",
        "   url = f\"https://api.spoonacular.com/recipes/complexSearch?query={query}&number=5&apiKey={Recipe_API_KEY}&sort=random\"\n",
        "   response = requests.get(url)\n",
        "   return response.json()\n",
        "\n",
        "\n",
        "#get user input on what city they are based in\n",
        "users_location = input(\"Enter your city: \")\n",
        "#extract weather data using the weather api\n",
        "weather_data = get_weather(users_location)\n",
        "#map the weather info to a recipe query/prompt\n",
        "query = map_weather_to_recipe(weather_data)\n",
        "#recieve 5 recipes/dishes based on the query\n",
        "data = get_recipes(query)\n",
        "\n",
        "#extract titles of recipes from the json output using list comprehension\n",
        "titles = [recipe['title'] for recipe in data['results']]\n",
        "\n",
        "\n",
        "for i in titles:\n",
        "  print(i)\n",
        "\n",
        "\n"
      ]
    }
  ]
}